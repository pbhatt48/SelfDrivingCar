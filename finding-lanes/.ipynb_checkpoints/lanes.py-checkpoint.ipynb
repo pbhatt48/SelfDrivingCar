{
 "cells": [
  {
   "cell_type": "code",
   "execution_count": null,
   "metadata": {
    "collapsed": false
   },
   "outputs": [
    {
     "name": "stdout",
     "output_type": "stream",
     "text": [
      "[[704 418 927 641]]\n",
      "[[704 426 791 516]]\n",
      "[[320 703 445 494]]\n",
      "[[585 301 663 381]]\n",
      "[[630 341 670 383]]\n",
      "[[794 520 861 591]]\n",
      "[[659 371 704 416]]\n",
      "[[870 599 939 672]]\n",
      "[[767 493 807 534]]\n",
      "[[423 509 454 461]]\n",
      "[[940 653 991 702]]\n",
      "[[824 551 879 609]]\n",
      "[[676 389 754 467]]\n"
     ]
    }
   ],
   "source": [
    "import cv2\n",
    "import numpy as np\n",
    "import matplotlib.pyplot as plt\n",
    "\n",
    "\n",
    "def canny(image):\n",
    "    gray = cv2.cvtColor(lane_image, cv2.COLOR_RGB2GRAY)\n",
    "    blur = cv2.GaussianBlur(gray, (5, 5), 0)\n",
    "    canny = cv2.Canny(blur, 50, 150)\n",
    "    return canny\n",
    "\n",
    "def display_lines(image, lines):\n",
    "    line_image = np.zeros_like(image)\n",
    "    if lines is not None:\n",
    "        for line in lines:\n",
    "            print(line)\n",
    "            x1, y1, x2, y2 = line.reshape(4)\n",
    "            cv2.line(line_image, (x1, y1), (x2, y2), (255, 0, 0), 10)\n",
    "    return line_image\n",
    "\n",
    "def region_of_interest(image):\n",
    "    height = image.shape[0]\n",
    "    polygon = np.array([[(200,height), (1100, height), (550, 250)]])\n",
    "    mask = np.zeros_like(image)\n",
    "    cv2.fillPoly(mask, polygon, 255)\n",
    "    masked_image = cv2.bitwise_and(image, mask)\n",
    "    return masked_image\n",
    "\n",
    "image = cv2.imread('test_image.jpg')\n",
    "lane_image = np.copy(image)\n",
    "canny = canny(lane_image)\n",
    "cropped_image = region_of_interest(canny)\n",
    "lines = cv2.HoughLinesP(cropped_image, 2, np.pi/180, 100, np.array([]), minLineLength=40, maxLineGap=5)\n",
    "line_image = display_lines(lane_image, lines)\n",
    "combo_image = cv2.addWeighted(lane_image, 0.8, line_image, 1, 1)\n",
    "\n",
    "cv2.imshow('result', combo_image)\n",
    "cv2.waitKey(0)\n",
    "\n",
    "\n",
    "\n"
   ]
  },
  {
   "cell_type": "code",
   "execution_count": null,
   "metadata": {
    "collapsed": true
   },
   "outputs": [],
   "source": []
  }
 ],
 "metadata": {
  "kernelspec": {
   "display_name": "Python 3",
   "language": "python",
   "name": "python3"
  },
  "language_info": {
   "codemirror_mode": {
    "name": "ipython",
    "version": 3
   },
   "file_extension": ".py",
   "mimetype": "text/x-python",
   "name": "python",
   "nbconvert_exporter": "python",
   "pygments_lexer": "ipython3",
   "version": "3.6.0"
  }
 },
 "nbformat": 4,
 "nbformat_minor": 2
}
