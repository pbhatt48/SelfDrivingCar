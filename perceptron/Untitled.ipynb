{
 "cells": [
  {
   "cell_type": "code",
   "execution_count": 50,
   "metadata": {},
   "outputs": [],
   "source": [
    "import numpy as np\n",
    "import matplotlib.pyplot as plt"
   ]
  },
  {
   "cell_type": "code",
   "execution_count": 51,
   "metadata": {},
   "outputs": [],
   "source": [
    "def gradient_descent(all_points, line_parameters, bias, alpha=0.06):\n",
    "    pass\n",
    "\n",
    "def sigmoid(score):\n",
    "    return (1.0 / (1 + np.exp(-score)) )\n",
    "\n",
    "def calculate_error(points, line_parameters, yval):\n",
    "    print(\"ALL POINTS == \", points.shape)\n",
    "    print(all_points)\n",
    "    print(\"LINE PARAMETERS == \", line_parameters.shape)\n",
    "    print(line_parameters)\n",
    "    print(\"YVAL ==\")\n",
    "    print(bias)\n",
    "    linear_combination = points * line_parameters\n",
    "    print(\"LINEAR COMBINATON == \", linear_combination.shape)\n",
    "    print(linear_combination)\n",
    "    prob = sigmoid(linear_combination)\n",
    "    print(\"PROBABILITY ==\", prob.shape)\n",
    "    print(prob)\n",
    "    \n",
    "    "
   ]
  },
  {
   "cell_type": "code",
   "execution_count": 52,
   "metadata": {},
   "outputs": [
    {
     "name": "stdout",
     "output_type": "stream",
     "text": [
      "ALL POINTS ==  (6, 3)\n",
      "[[ 9.5539559  13.09165505  0.        ]\n",
      " [11.9386552  12.86951127  0.        ]\n",
      " [12.07999586 12.38155325  0.        ]\n",
      " [ 6.31501754  4.84985911  1.        ]\n",
      " [ 4.76567432  5.73202346  1.        ]\n",
      " [ 3.24113965  4.37566067  1.        ]]\n",
      "LINE PARAMETERS ==  (3,)\n",
      "[0 0 0]\n",
      "YVAL ==\n",
      "[[0.]\n",
      " [0.]\n",
      " [0.]\n",
      " [1.]\n",
      " [1.]\n",
      " [1.]]\n",
      "LINEAR COMBINATON ==  (6, 3)\n",
      "[[0. 0. 0.]\n",
      " [0. 0. 0.]\n",
      " [0. 0. 0.]\n",
      " [0. 0. 0.]\n",
      " [0. 0. 0.]\n",
      " [0. 0. 0.]]\n",
      "PROBABILITY == (6, 3)\n",
      "[[0.5 0.5 0.5]\n",
      " [0.5 0.5 0.5]\n",
      " [0.5 0.5 0.5]\n",
      " [0.5 0.5 0.5]\n",
      " [0.5 0.5 0.5]\n",
      " [0.5 0.5 0.5]]\n"
     ]
    },
    {
     "data": {
      "image/png": "[encoded data removed]",
      "text/plain": [
       "<matplotlib.figure.Figure at 0x10d186a90>"
      ]
     },
     "metadata": {},
     "output_type": "display_data"
    }
   ],
   "source": [
    "number_of_points = 3\n",
    "upper_x = np.random.normal(10, 2, number_of_points)\n",
    "upper_y = np.random.normal(12, 2, number_of_points)\n",
    "bottom_x = np.random.normal(5, 2, number_of_points)\n",
    "bottom_y = np.random.normal(6, 2, number_of_points)\n",
    "bias = np.array([np.zeros(number_of_points), np.ones(number_of_points)])\n",
    "bias = bias.reshape(number_of_points*2, 1)\n",
    "#print(bias)\n",
    "upper_region = np.array([upper_x, upper_y, bias[:number_of_points,0]]).T\n",
    "bottom_region = np.array([bottom_x, bottom_y, bias[number_of_points:, 0]]).T\n",
    "all_points = np.vstack((upper_region, bottom_region))\n",
    "_, ax = plt.subplots(figsize=(4,4))\n",
    "ax.scatter(upper_region[:,0], upper_region[:,1], color='r')\n",
    "ax.scatter(bottom_region[:,0], bottom_region[:,1], color='b')\n",
    "\n",
    "line_parameters = np.array([0, 0, 0])\n",
    "\n",
    "#gradient_descent( all_points, line_parameters, bias, alpha=0.06)\n",
    "calculate_error(all_points, line_parameters, bias)\n",
    "\n",
    "plt.show()"
   ]
  },
  {
   "cell_type": "code",
   "execution_count": null,
   "metadata": {},
   "outputs": [],
   "source": []
  }
 ],
 "metadata": {
  "kernelspec": {
   "display_name": "Python 3",
   "language": "python",
   "name": "python3"
  },
  "language_info": {
   "codemirror_mode": {
    "name": "ipython",
    "version": 3
   },
   "file_extension": ".py",
   "mimetype": "text/x-python",
   "name": "python",
   "nbconvert_exporter": "python",
   "pygments_lexer": "ipython3",
   "version": "3.6.0"
  }
 },
 "nbformat": 4,
 "nbformat_minor": 2
}
