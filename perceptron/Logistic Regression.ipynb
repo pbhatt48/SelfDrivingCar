{
 "cells": [
  {
   "cell_type": "code",
   "execution_count": 35,
   "metadata": {
    "collapsed": false
   },
   "outputs": [
    {
     "name": "stdout",
     "output_type": "stream",
     "text": [
      "[[ 0.69314718]]\n"
     ]
    },
    {
     "data": {
      "image/png": "[encoded data removed]",
      "text/plain": [
       "<matplotlib.figure.Figure at 0x113cd6a58>"
      ]
     },
     "metadata": {},
     "output_type": "display_data"
    }
   ],
   "source": [
    "import numpy as np\n",
    "import matplotlib.pyplot as plt\n",
    "\n",
    "\n",
    "def draw(x1, x2):\n",
    "    ln = plt.plot(x1, x2)\n",
    "    \n",
    "def sigmoid(score):\n",
    "    return (1/(1 + np.exp(-score)))\n",
    "\n",
    "def calculate_error(line_parameters, all_points, y):\n",
    "    n = all_points.shape[0]\n",
    "    p = sigmoid(all_points * line_parameters)\n",
    "    #print(np.log(p))\n",
    "    cross_entropy = -1/n * (np.log(p).T * y + np.log(1-p).T * (1 - y))\n",
    "    return cross_entropy\n",
    "\n",
    "def gradient_descent(line_parameters, points, y, alpha):\n",
    "    for i in range(500):\n",
    "        p = sigmoid(points * line_parameters)\n",
    "        gradient = points.T *  (p - y) * (1.0 / points.shape[0])#points.shape[0])\n",
    "        line_parameters = line_parameters - gradient\n",
    "        w1 = line_parameters.item(0)\n",
    "        w2 = line_parameters.item(1)\n",
    "        b = line_parameters.item(2)\n",
    "        x1 = np.array([points[:,0].min(), points[:,0].max()])\n",
    "        x2 = -b / w2 + x1 * (-w1 / w2)\n",
    "    draw(x1, x2)\n",
    "    \n",
    "\n",
    "n_pts = 100\n",
    "np.random.seed(2)\n",
    "bias = np.ones(n_pts)\n",
    "random_x1_values = np.random.normal(10, 2, n_pts)\n",
    "random_x2_values = np.random.normal(12, 2, n_pts)\n",
    "top_region = np.array([np.random.normal(10, 2, n_pts), np.random.normal(12, 2, n_pts), bias]).T\n",
    "bottom_region = np.array([np.random.normal(5, 2, n_pts), np.random.normal(6, 2, n_pts), bias]).T\n",
    "all_points = np.vstack((top_region, bottom_region))\n",
    "# print(\"TOP == \" , top_region[:5, :])\n",
    "# print(\"BOTTOM == \" , bottom_region[:5, :])\n",
    "# print(\"ALL POINTS == \" , all_points)\n",
    "\n",
    "line_parameters = np.matrix([np.zeros(3)]).T\n",
    "# x1 = np.array([bottom_region[:,0].min(), top_region[:,0].max()])\n",
    "# x2 = -b / w2 + x1 * (-w1 / w2)\n",
    "#print(x1, x2)\n",
    "y = np.array([np.zeros(n_pts), np.ones(n_pts)]).reshape(n_pts *2, 1)\n",
    "#print(y)\n",
    "print(calculate_error(line_parameters, all_points, y))\n",
    "\n",
    "\n",
    "_, ax = plt.subplots(figsize=(4, 4))\n",
    "ax.scatter(top_region[:, 0], top_region[:, 1], color='r')\n",
    "ax.scatter(bottom_region[:,0], bottom_region[:,1], color='b')\n",
    "#draw(x1, x2)\n",
    "gradient_descent(line_parameters, all_points, y, 0.06)\n",
    "plt.show()\n",
    "\n"
   ]
  },
  {
   "cell_type": "code",
   "execution_count": 43,
   "metadata": {
    "collapsed": false
   },
   "outputs": [
    {
     "name": "stdout",
     "output_type": "stream",
     "text": [
      "[[ 0.69314718]]\n"
     ]
    },
    {
     "data": {
      "image/png": "[encoded data removed]",
      "text/plain": [
       "<matplotlib.figure.Figure at 0x114069128>"
      ]
     },
     "metadata": {},
     "output_type": "display_data"
    }
   ],
   "source": [
    "import numpy as np\n",
    "import matplotlib.pyplot as plt\n",
    "\n",
    "\n",
    "def draw(x1, x2):\n",
    "    ln = plt.plot(x1, x2, '-')\n",
    "    plt.pause(0.0001)\n",
    "    ln[0].remove()\n",
    "\n",
    "\n",
    "\n",
    "\n",
    "def sigmoid(z):\n",
    "    return (1 / (1 + np.exp(-z)))\n",
    "\n",
    "\n",
    "def calculate_error(line_parameters, points, y):\n",
    "    m = points.shape[0]\n",
    "    p = sigmoid(points * line_parameters)\n",
    "    # print(np.log(p))\n",
    "    cross_entropy = -(1 / m) * (np.log(p).T * y + np.log(1 - p).T * (1 - y))\n",
    "    return cross_entropy\n",
    "\n",
    "\n",
    "def gradient_descent(line_parameters, points, y, alpha):\n",
    "    m = points.shape[0]\n",
    "\n",
    "    for i in range(2000):\n",
    "        p = sigmoid(points * line_parameters)\n",
    "        gradient = points.T * (p - y) * (alpha / m)  # points.shape[0])\n",
    "        line_parameters = line_parameters - gradient\n",
    "        w1 = line_parameters.item(0)\n",
    "        w2 = line_parameters.item(1)\n",
    "        b = line_parameters.item(2)\n",
    "        x1 = np.array([points[:, 0].min(), points[:, 0].max()])\n",
    "        x2 = -b / w2 + x1 * (-w1 / w2)\n",
    "        draw(x1, x2)\n",
    "\n",
    "\n",
    "\n",
    "n_pts = 100\n",
    "np.random.seed(0)\n",
    "bias = np.ones(n_pts)\n",
    "random_x1_values = np.random.normal(10, 2, n_pts)\n",
    "random_x2_values = np.random.normal(12, 2, n_pts)\n",
    "top_region = np.array([np.random.normal(10, 2, n_pts), np.random.normal(12, 2, n_pts), bias]).T\n",
    "bottom_region = np.array([np.random.normal(5, 2, n_pts), np.random.normal(6, 2, n_pts), bias]).T\n",
    "all_points = np.vstack((top_region, bottom_region))\n",
    "# print(\"TOP == \" , top_region[:5, :])\n",
    "# print(\"BOTTOM == \" , bottom_region[:5, :])\n",
    "# print(\"ALL POINTS == \" , all_points)\n",
    "\n",
    "line_parameters = np.matrix([np.zeros(3)]).T\n",
    "# x1 = np.array([bottom_region[:,0].min(), top_region[:,0].max()])\n",
    "# x2 = -b / w2 + x1 * (-w1 / w2)\n",
    "# print(x1, x2)\n",
    "y = np.array([np.zeros(n_pts), np.ones(n_pts)]).reshape(n_pts * 2, 1)\n",
    "# print(y)\n",
    "print(calculate_error(line_parameters, all_points, y))\n",
    "\n",
    "_, ax = plt.subplots(figsize=(4, 4))\n",
    "ax.scatter(top_region[:, 0], top_region[:, 1], color='r')\n",
    "ax.scatter(bottom_region[:, 0], bottom_region[:, 1], color='b')\n",
    "# draw(x1, x2)\n",
    "gradient_descent(line_parameters, all_points, y, 0.06)\n",
    "plt.show()\n",
    "\n"
   ]
  },
  {
   "cell_type": "code",
   "execution_count": 11,
   "metadata": {
    "collapsed": false
   },
   "outputs": [],
   "source": [
    "### Practice 2\n",
    "import numpy as np\n",
    "import matplotlib.pyplot as plt\n",
    "\n",
    "def draw(x1, x2):\n",
    "    ln = plt.plot(x1, x2)\n",
    "    \n",
    "def sigmoid(score):\n",
    "    return (1.0/(1.0 + np.exp(-score)))\n",
    "\n",
    "def calculate_error(points, line_parameters, yval):\n",
    "    #probabilites = sigmoid(points * line_parameters)\n",
    "    linear_combination = points * line_parameters\n",
    "    probabilites = sigmoid(linear_combination)\n",
    "    m = points.shape[0]\n",
    "    cross_entropy = -(1/m)*(np.log(probabilites).T*yval + np.log(1-probabilites).T*(1-yval))\n",
    "    #-(1/m) * (np.log(probabilites).T * yval) + (np.log(1-probabilites).T * (1 - yval))\n",
    "    print( \"PROBABILITIES == \", probabilites)\n",
    "    print( \"CROSS ENTROPY == \", cross_entropy)\n",
    "    return cross_entropy\n",
    "    \n",
    "    \n"
   ]
  },
  {
   "cell_type": "code",
   "execution_count": 12,
   "metadata": {
    "collapsed": false
   },
   "outputs": [
    {
     "name": "stdout",
     "output_type": "stream",
     "text": [
      "ALL Points == \n",
      " [[13.52810469 12.28808714  1.        ]\n",
      " [10.80031442 14.90854701  1.        ]\n",
      " [11.95747597 13.52207545  1.        ]\n",
      " [14.4817864  12.24335003  1.        ]\n",
      " [13.73511598 12.88772647  1.        ]\n",
      " [ 8.04544424 12.66734865  1.        ]\n",
      " [11.90017684 14.98815815  1.        ]\n",
      " [ 9.69728558 11.58968347  1.        ]\n",
      " [ 9.7935623  12.6261354   1.        ]\n",
      " [10.821197   10.29180852  1.        ]\n",
      " [-0.10597963  6.30989485  1.        ]\n",
      " [ 6.30723719  6.75632504  1.        ]\n",
      " [ 6.7288724   4.2244285   1.        ]\n",
      " [ 3.51566996  2.03840706  1.        ]\n",
      " [ 9.53950925  5.3041757   1.        ]\n",
      " [ 2.09126865  6.31269794  1.        ]\n",
      " [ 5.09151703  8.46058136  1.        ]\n",
      " [ 4.6256323   8.4047597   1.        ]\n",
      " [ 8.06555843  5.22534637  1.        ]\n",
      " [ 7.93871754  5.3953945   1.        ]]\n",
      "line_parameters == \n",
      " [[-0.1 ]\n",
      " [-0.15]\n",
      " [ 0.  ]]\n",
      " Y VAL == \n",
      " [[0.]\n",
      " [0.]\n",
      " [0.]\n",
      " [0.]\n",
      " [0.]\n",
      " [0.]\n",
      " [0.]\n",
      " [0.]\n",
      " [0.]\n",
      " [0.]\n",
      " [1.]\n",
      " [1.]\n",
      " [1.]\n",
      " [1.]\n",
      " [1.]\n",
      " [1.]\n",
      " [1.]\n",
      " [1.]\n",
      " [1.]\n",
      " [1.]]\n",
      "PROBABILITIES ==  [[0.03931564]\n",
      " [0.03501576]\n",
      " [0.03827031]\n",
      " [0.03610047]\n",
      " [0.03534306]\n",
      " [0.06269972]\n",
      " [0.03112147]\n",
      " [0.06249233]\n",
      " [0.05349052]\n",
      " [0.0674906 ]\n",
      " [0.28173205]\n",
      " [0.16189811]\n",
      " [0.21306447]\n",
      " [0.34134008]\n",
      " [0.14810052]\n",
      " [0.23938912]\n",
      " [0.14452073]\n",
      " [0.15144952]\n",
      " [0.16933356]\n",
      " [0.16753751]]\n",
      "CROSS ENTROPY ==  [[0.84528472]]\n",
      "Accuracy of Model ==  [[0.84528472]]\n"
     ]
    },
    {
     "data": {
      "image/png": "[encoded data removed]",
      "text/plain": [
       "<matplotlib.figure.Figure at 0x11223b780>"
      ]
     },
     "metadata": {},
     "output_type": "display_data"
    }
   ],
   "source": [
    "no_of_pts = 10\n",
    "bias = np.ones(no_of_pts)\n",
    "np.random.seed(0)\n",
    "x1 = np.random.normal(10, 2, no_of_pts)\n",
    "y1 = np.random.normal(12, 2, no_of_pts)\n",
    "x2 = np.random.normal(5, 2, no_of_pts)\n",
    "y2 = np.random.normal(6, 2, no_of_pts)\n",
    "top_region = np.array([x1, y1, bias]).T\n",
    "bottom_region = np.array([x2, y2, bias]).T\n",
    "#plt.scatter(x1, y1, color='r', alpha=0.5)\n",
    "#plt.scatter(x2, y2, color='b', alpha=0.5)\n",
    "all_points = np.vstack((top_region, bottom_region))\n",
    "#print(all_points)\n",
    "w1=-0.1\n",
    "w2=-0.15\n",
    "b=0\n",
    "line_parameters = np.matrix([w1, w2, b]).T\n",
    "#print(line_parameters)\n",
    "x1 = np.array([bottom_region[:,0].min(), top_region[:,0].max()])\n",
    "x2 = -b / w2 + (x1 * (-w1/ w2))\n",
    "#print(x1)\n",
    "#print(x2)\n",
    "y = np.array([np.zeros(no_of_pts), np.ones(no_of_pts)]).reshape(no_of_pts *2, 1)\n",
    "print(\"ALL Points == \\n\", all_points)\n",
    "print(\"line_parameters == \\n\", line_parameters)\n",
    "print(\" Y VAL == \\n\", y)\n",
    "entropy = calculate_error(all_points, line_parameters, y)\n",
    "print(\"Accuracy of Model == \", entropy)\n",
    "_, ax = plt.subplots(figsize=(4,4))\n",
    "ax.scatter(top_region[:,0], top_region[:,1], color =\"r\")\n",
    "ax.scatter(bottom_region[:, 0], bottom_region[:,1], color = 'b')\n",
    "draw(x1, x2)\n",
    "plt.show()\n",
    "\n"
   ]
  },
  {
   "cell_type": "code",
   "execution_count": null,
   "metadata": {
    "collapsed": true
   },
   "outputs": [],
   "source": []
  }
 ],
 "metadata": {
  "kernelspec": {
   "display_name": "Python 3",
   "language": "python",
   "name": "python3"
  },
  "language_info": {
   "codemirror_mode": {
    "name": "ipython",
    "version": 3
   },
   "file_extension": ".py",
   "mimetype": "text/x-python",
   "name": "python",
   "nbconvert_exporter": "python",
   "pygments_lexer": "ipython3",
   "version": "3.6.0"
  }
 },
 "nbformat": 4,
 "nbformat_minor": 2
}
